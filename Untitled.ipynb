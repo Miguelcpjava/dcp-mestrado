{
 "cells": [
  {
   "cell_type": "code",
   "execution_count": null,
   "metadata": {},
   "outputs": [],
   "source": [
    "import numpy as np\n",
    "import cv2\n",
    "imgname = \"Imagens/regua/Casa315d.jpg\"          # query image (small object)\n",
    "imgname2 = \"Imagens/regua/Casa120.jpeg\" # train image (large scene)\n",
    "\n",
    "MIN_MATCH_COUNT = 4\n",
    "\n",
    "## Create ORB object and BF object(using HAMMING)\n",
    "orb = cv2.ORB_create()\n",
    "img1 = cv2.imread(imgname,cv2.IMREAD_GRAYSCALE)\n",
    "img2 = cv2.imread(imgname2,cv2.IMREAD_GRAYSCALE)\n",
    "\n",
    "#gray2 = cv2.cvtColor(img2, cv2.COLOR_BGR2GRAY)\n",
    "#gray1 = cv2.cvtColor(img1, cv2.COLOR_BGR2GRAY)\n",
    "\n",
    "## Find the keypoints and descriptors with ORB\n",
    "#kpts1, descs1 = orb.detectAndCompute(gray1,None)\n",
    "#kpts2, descs2 = orb.detectAndCompute(gray2,None)\n",
    "kpts1, descs1 = orb.detectAndCompute(img1,None)\n",
    "kpts2, descs2 = orb.detectAndCompute(img2,None)\n",
    "\n",
    "## match descriptors and sort them in the order of their distance\n",
    "bf = cv2.BFMatcher(cv2.NORM_HAMMING, crossCheck=True)\n",
    "matches = bf.match(descs1, descs2)\n",
    "dmatches = sorted(matches, key = lambda x:x.distance)\n",
    "\n",
    "## extract the matched keypoints\n",
    "src_pts  = np.float32([kpts1[m.queryIdx].pt for m in dmatches]).reshape(-1,1,2)\n",
    "dst_pts  = np.float32([kpts2[m.trainIdx].pt for m in dmatches]).reshape(-1,1,2)\n",
    "\n",
    "## find homography matrix and do perspective transform\n",
    "M, mask = cv2.findHomography(src_pts, dst_pts, cv2.RANSAC,5.0)\n",
    "h,w = img1.shape[:2]\n",
    "pts = np.float32([ [0,0],[0,h-1],[w-1,h-1],[w-1,0] ]).reshape(-1,1,2)\n",
    "dst = cv2.perspectiveTransform(pts,M)\n",
    "\n",
    "## draw found regions\n",
    "img2 = cv2.polylines(img2, [np.int32(dst)], True, (0,0,255), 1, cv2.LINE_AA)\n",
    "cv2.imshow(\"found\", img2)\n",
    "\n",
    "## draw match lines\n",
    "res = cv2.drawMatches(img1, kpts1, img2, kpts2, dmatches[:20],None,flags=2)\n",
    "\n",
    "cv2.imwrite('Imagens/regua/casa120aTwo2.jpg',res)\n"
   ]
  },
  {
   "cell_type": "code",
   "execution_count": null,
   "metadata": {},
   "outputs": [],
   "source": []
  },
  {
   "cell_type": "code",
   "execution_count": null,
   "metadata": {},
   "outputs": [],
   "source": []
  }
 ],
 "metadata": {
  "kernelspec": {
   "display_name": "Python 3",
   "language": "python",
   "name": "python3"
  },
  "language_info": {
   "codemirror_mode": {
    "name": "ipython",
    "version": 3
   },
   "file_extension": ".py",
   "mimetype": "text/x-python",
   "name": "python",
   "nbconvert_exporter": "python",
   "pygments_lexer": "ipython3",
   "version": "3.6.5"
  }
 },
 "nbformat": 4,
 "nbformat_minor": 2
}
